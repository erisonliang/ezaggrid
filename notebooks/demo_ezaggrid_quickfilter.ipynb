{
 "cells": [
  {
   "cell_type": "code",
   "execution_count": null,
   "metadata": {},
   "outputs": [],
   "source": [
    "%load_ext autoreload\n",
    "%autoreload 2"
   ]
  },
  {
   "cell_type": "code",
   "execution_count": null,
   "metadata": {},
   "outputs": [],
   "source": [
    "import os\n",
    "import json\n",
    "import re\n",
    "import pandas as pd\n",
    "from IPython.display import Javascript\n",
    "\n",
    "from ezaggrid import AgGrid, get_license"
   ]
  },
  {
   "cell_type": "code",
   "execution_count": null,
   "metadata": {},
   "outputs": [],
   "source": [
    "path = os.path.join('data', 'olympicWinners.json')\n",
    "df = pd.read_json(path)"
   ]
  },
  {
   "cell_type": "code",
   "execution_count": null,
   "metadata": {},
   "outputs": [],
   "source": [
    "df.info()"
   ]
  },
  {
   "cell_type": "code",
   "execution_count": null,
   "metadata": {},
   "outputs": [],
   "source": [
    "columnDefs = [\n",
    "    {'headerName': \"Athlete\", 'field': \"athlete\", 'width': 150},\n",
    "    {'headerName': \"Age\", 'field': \"age\", 'width': 90},\n",
    "    {'headerName': \"Country\", 'field': \"country\", 'width': 120},\n",
    "    {'headerName': \"Year\", 'field': \"year\", 'width': 90},\n",
    "    {'headerName': \"Date\", 'field': \"date\", 'width': 145},\n",
    "    {'headerName': \"Sport\", 'field': \"sport\", 'width': 110},\n",
    "    {'headerName': \"Gold\", 'field': \"gold\", 'width': 100},\n",
    "    {'headerName': \"Silver\", 'field': \"silver\", 'width': 100},\n",
    "    {'headerName': \"Bronze\", 'field': \"bronze\", 'width': 100},\n",
    "    {'headerName': \"Total\", 'field': \"total\", 'width': 100, 'suppressFilter': True}\n",
    "]\n",
    "\n",
    "grid_options = {\n",
    "    'columnDefs': columnDefs,\n",
    "    'enableFilter': False,\n",
    "    'enableSorting': False,\n",
    "    'cacheQuickFilter': True\n",
    "}"
   ]
  },
  {
   "cell_type": "code",
   "execution_count": null,
   "metadata": {},
   "outputs": [],
   "source": [
    "ag = AgGrid(grid_data=df[:],\n",
    "            grid_options=grid_options,\n",
    "            css_rules=None,\n",
    "            width=850,\n",
    "            height=500,\n",
    "            quick_filter=True,\n",
    "            export_csv=False,\n",
    "            export_excel=False,\n",
    "            implicit_col_defs=True,\n",
    "            theme='ag-theme-fresh',\n",
    "            license=get_license())\n",
    "ag.show()"
   ]
  },
  {
   "cell_type": "code",
   "execution_count": null,
   "metadata": {},
   "outputs": [],
   "source": []
  },
  {
   "cell_type": "code",
   "execution_count": null,
   "metadata": {},
   "outputs": [],
   "source": []
  }
 ],
 "metadata": {
  "kernelspec": {
   "display_name": "Python 3",
   "language": "python",
   "name": "python3"
  },
  "language_info": {
   "codemirror_mode": {
    "name": "ipython",
    "version": 3
   },
   "file_extension": ".py",
   "mimetype": "text/x-python",
   "name": "python",
   "nbconvert_exporter": "python",
   "pygments_lexer": "ipython3",
   "version": "3.6.1"
  }
 },
 "nbformat": 4,
 "nbformat_minor": 2
}
