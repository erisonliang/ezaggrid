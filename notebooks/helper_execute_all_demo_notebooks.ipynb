{
 "cells": [
  {
   "cell_type": "code",
   "execution_count": 1,
   "metadata": {},
   "outputs": [],
   "source": [
    "import os\n",
    "import glob\n",
    "\n",
    "from notebook_snapshot import execute"
   ]
  },
  {
   "cell_type": "code",
   "execution_count": 2,
   "metadata": {},
   "outputs": [
    {
     "data": {
      "text/plain": [
       "['demo_ezaggrid_aggregation.ipynb',\n",
       " 'demo_ezaggrid_clipboard.ipynb',\n",
       " 'demo_ezaggrid_column_definition.ipynb',\n",
       " 'demo_ezaggrid_column_filter.ipynb',\n",
       " 'demo_ezaggrid_column_groups.ipynb',\n",
       " 'demo_ezaggrid_column_headers.ipynb',\n",
       " 'demo_ezaggrid_column_resize.ipynb',\n",
       " 'demo_ezaggrid_column_row_sorting.ipynb',\n",
       " 'demo_ezaggrid_export_csv_excel.ipynb',\n",
       " 'demo_ezaggrid_multiindex_dataframe.ipynb',\n",
       " 'demo_ezaggrid_pagination.ipynb',\n",
       " 'demo_ezaggrid_pivoting.ipynb',\n",
       " 'demo_ezaggrid_quickfilter.ipynb',\n",
       " 'demo_ezaggrid_status_bar.ipynb',\n",
       " 'demo_ezaggrid_tool_panel.ipynb']"
      ]
     },
     "execution_count": 2,
     "metadata": {},
     "output_type": "execute_result"
    }
   ],
   "source": [
    "li_nb = glob.glob('demo_ezaggrid_*.ipynb')\n",
    "li_nb"
   ]
  },
  {
   "cell_type": "code",
   "execution_count": 3,
   "metadata": {},
   "outputs": [
    {
     "name": "stdout",
     "output_type": "stream",
     "text": [
      "('demo_ezaggrid_aggregation.ipynb', '20180223_183351.197')\n",
      "('demo_ezaggrid_clipboard.ipynb', '20180223_183355.675')\n",
      "('demo_ezaggrid_column_definition.ipynb', '20180223_183400.103')\n",
      "('demo_ezaggrid_column_filter.ipynb', '20180223_183404.521')\n",
      "('demo_ezaggrid_column_groups.ipynb', '20180223_183407.949')\n",
      "('demo_ezaggrid_column_headers.ipynb', '20180223_183412.379')\n",
      "('demo_ezaggrid_column_resize.ipynb', '20180223_183415.791')\n",
      "('demo_ezaggrid_column_row_sorting.ipynb', '20180223_183419.198')\n",
      "('demo_ezaggrid_export_csv_excel.ipynb', '20180223_183422.607')\n",
      "('demo_ezaggrid_multiindex_dataframe.ipynb', '20180223_183426.030')\n",
      "('demo_ezaggrid_pagination.ipynb', '20180223_183428.389')\n",
      "('demo_ezaggrid_pivoting.ipynb', '20180223_183431.820')\n",
      "('demo_ezaggrid_quickfilter.ipynb', '20180223_183435.270')\n",
      "('demo_ezaggrid_status_bar.ipynb', '20180223_183438.693')\n",
      "('demo_ezaggrid_tool_panel.ipynb', '20180223_183442.109')\n",
      "CPU times: user 2.36 s, sys: 637 ms, total: 3 s\n",
      "Wall time: 56.3 s\n"
     ]
    }
   ],
   "source": [
    "%%time\n",
    "\n",
    "for nb in li_nb[:]:\n",
    "    res = execute(nb, dated=False, verbose=False)\n",
    "    print(res)"
   ]
  },
  {
   "cell_type": "code",
   "execution_count": null,
   "metadata": {},
   "outputs": [],
   "source": []
  }
 ],
 "metadata": {
  "kernelspec": {
   "display_name": "Python 3",
   "language": "python",
   "name": "python3"
  },
  "language_info": {
   "codemirror_mode": {
    "name": "ipython",
    "version": 3
   },
   "file_extension": ".py",
   "mimetype": "text/x-python",
   "name": "python",
   "nbconvert_exporter": "python",
   "pygments_lexer": "ipython3",
   "version": "3.6.3"
  }
 },
 "nbformat": 4,
 "nbformat_minor": 2
}
