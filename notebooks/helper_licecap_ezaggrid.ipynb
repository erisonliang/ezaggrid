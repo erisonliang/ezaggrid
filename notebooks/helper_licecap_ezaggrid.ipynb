{
 "cells": [
  {
   "cell_type": "code",
   "execution_count": null,
   "metadata": {},
   "outputs": [],
   "source": [
    "%load_ext autoreload\n",
    "%autoreload 2"
   ]
  },
  {
   "cell_type": "code",
   "execution_count": null,
   "metadata": {},
   "outputs": [],
   "source": [
    "import os\n",
    "import json\n",
    "import re\n",
    "import pandas as pd\n",
    "\n",
    "from IPython.display import Javascript\n",
    "\n",
    "from ezaggrid import AgGrid, get_license"
   ]
  },
  {
   "cell_type": "code",
   "execution_count": null,
   "metadata": {},
   "outputs": [],
   "source": [
    "path = os.path.join('data', 'olympicWinners.json')\n",
    "df = pd.read_json(path)"
   ]
  },
  {
   "cell_type": "code",
   "execution_count": null,
   "metadata": {},
   "outputs": [],
   "source": [
    "df.info()"
   ]
  },
  {
   "cell_type": "code",
   "execution_count": null,
   "metadata": {},
   "outputs": [],
   "source": [
    "columnDefs = [\n",
    "    {'headerName': \"Athlete\", 'field': \"athlete\", 'width': 170},\n",
    "    {'headerName': \"Age\", 'field': \"age\", 'width': 90},\n",
    "    {'headerName': \"Country\", 'field': \"country\", 'width': 120},\n",
    "    {'headerName': \"Year\", 'field': \"year\", 'width': 90},\n",
    "    {'headerName': \"Date\", 'field': \"date\", 'width': 100},\n",
    "    {'headerName': \"Sport\", 'field': \"sport\", 'width': 110},\n",
    "    {'headerName': \"Gold\", 'field': \"gold\", 'width': 90},\n",
    "    {'headerName': \"Silver\", 'field': \"silver\", 'width': 90},\n",
    "    {'headerName': \"Bronze\", 'field': \"bronze\", 'width': 90}\n",
    "]\n",
    "grid_options = {\n",
    "    'columnDefs': columnDefs,\n",
    "    'enableColResize': True,\n",
    "    'enableSorting':True\n",
    "}\n",
    "\n",
    "columnDefs_1 = [\n",
    "    {'headerName': \"Athlete\", 'field': \"athlete\", 'width': 170},\n",
    "    {'headerName': \"Age\", 'field': \"age\", 'width': 90},\n",
    "    {'headerName': \"Country\", 'field': \"country\", 'width': 120},\n",
    "    {'headerName': \"Year\", 'field': \"year\", 'width': 90},\n",
    "    {'headerName': \"Date\", 'field': \"date\", 'width': 100},\n",
    "    {'headerName': \"Sport\", 'field': \"sport\", 'width': 110},\n",
    "    {'headerName': \"Gold\", 'field': \"gold\", 'width': 90, 'aggFunc': 'sum'},\n",
    "    {'headerName': \"Silver\", 'field': \"silver\", 'width': 90, 'aggFunc': 'sum'},\n",
    "    {'headerName': \"Bronze\", 'field': \"bronze\", 'width': 90, 'aggFunc': 'sum'}\n",
    "]\n",
    "grid_options_1 = {\n",
    "    'columnDefs': columnDefs_1,\n",
    "    'enableColResize': True,\n",
    "    'floatingFilter':True,\n",
    "    'enableSorting':True\n",
    "}\n",
    "\n",
    "columnDefs_2 = [\n",
    "    {'headerName': \"Country\", 'field': \"country\", 'width': 120, 'rowGroup': True},\n",
    "    {'headerName': \"Gold\", 'field': \"gold\", 'width': 100, 'aggFunc': 'sum', 'enableValue': True},\n",
    "    {'headerName': \"Silver\", 'field': \"silver\", 'width': 100, 'aggFunc': 'sum', 'enableValue': True},\n",
    "    {'headerName': \"Bronze\", 'field': \"bronze\", 'width': 100, 'aggFunc': 'sum', 'enableValue': True},\n",
    "    {'headerName': \"Total\", 'field': \"total\", 'width': 100, 'aggFunc': 'avg', 'enableValue': True},\n",
    "    {'headerName': \"Year\", 'field': \"year\", 'width': 90},\n",
    "    {'headerName': \"Sport\", 'field': \"sport\", 'width': 110},\n",
    "    {'headerName': \"Age\", 'field': \"age\", 'width': 90},\n",
    "]\n",
    "\n",
    "grid_options_2 = {\n",
    "    'columnDefs': columnDefs_2,\n",
    "    'groupIncludeFooter': True,\n",
    "    'enableSorting': True,\n",
    "    'showToolPanel': False,\n",
    "    'toolPanelSuppressPivots': True,\n",
    "    'toolPanelSuppressPivotMode': True,\n",
    "    'autoGroupColumnDef': {\n",
    "        'headerName': \"Athlete\",\n",
    "        'field': \"athlete\",\n",
    "        'width': 200,\n",
    "        'cellRenderer':'agGroupCellRenderer',\n",
    "        'cellRendererParams': {\n",
    "            'footerValueGetter': '\"Total (\" + x + \")\"',\n",
    "            'padding': 15\n",
    "        }\n",
    "    }\n",
    "}\n",
    "\n",
    "columnDefs_3 = [\n",
    "    {'headerName': \"Country\", 'field': \"country\", 'width': 120, 'rowGroup': True},\n",
    "    {'headerName': \"Year\", 'field': \"year\", 'width': 90, 'pivot': True},\n",
    "    {'headerName': \"Date\", 'field': \"date\", 'width': 110},\n",
    "    {'headerName': \"Sport\", 'field': \"sport\", 'width': 110},\n",
    "    {'headerName': \"Gold\", 'field': \"gold\", 'width': 100, 'aggFunc': 'sum'},\n",
    "    {'headerName': \"Silver\", 'field': \"silver\", 'width': 100, 'aggFunc': 'sum'},\n",
    "    {'headerName': \"Bronze\", 'field': \"bronze\", 'width': 100, 'aggFunc': 'sum'}\n",
    "];\n",
    "\n",
    "grid_options_3 = {\n",
    "    'columnDefs': columnDefs_3,\n",
    "    'pivotMode': True,\n",
    "    'enableColResize': True,\n",
    "    'floatingFilter':True,\n",
    "    'enableSorting':True\n",
    "};"
   ]
  },
  {
   "cell_type": "code",
   "execution_count": null,
   "metadata": {},
   "outputs": [],
   "source": [
    "ag = AgGrid(grid_data=df[:],\n",
    "#             grid_options=grid_options,\n",
    "            grid_options_multi=[('Basic', grid_options),\n",
    "                                ('Column Filter', grid_options_1),\n",
    "                                ('Agg by Country', grid_options_2),\n",
    "                                ('Pivot by Country/Date', grid_options_3),\n",
    "                               ],\n",
    "            css_rules=None,\n",
    "            width=950,\n",
    "            height=500,\n",
    "            quick_filter=True,\n",
    "            export_csv=True,\n",
    "            export_excel=True,\n",
    "            index=False,\n",
    "            keep_multiindex=True,\n",
    "            implicit_col_defs=False,\n",
    "            theme='ag-theme-fresh',\n",
    "            license=get_license() # for enterprise features\n",
    "           )\n",
    "ag.show()"
   ]
  },
  {
   "cell_type": "code",
   "execution_count": null,
   "metadata": {},
   "outputs": [],
   "source": []
  },
  {
   "cell_type": "code",
   "execution_count": null,
   "metadata": {},
   "outputs": [],
   "source": []
  },
  {
   "cell_type": "code",
   "execution_count": null,
   "metadata": {},
   "outputs": [],
   "source": []
  },
  {
   "cell_type": "code",
   "execution_count": null,
   "metadata": {},
   "outputs": [],
   "source": []
  },
  {
   "cell_type": "code",
   "execution_count": null,
   "metadata": {},
   "outputs": [],
   "source": []
  },
  {
   "cell_type": "code",
   "execution_count": null,
   "metadata": {},
   "outputs": [],
   "source": []
  },
  {
   "cell_type": "code",
   "execution_count": null,
   "metadata": {},
   "outputs": [],
   "source": []
  },
  {
   "cell_type": "code",
   "execution_count": null,
   "metadata": {},
   "outputs": [],
   "source": []
  },
  {
   "cell_type": "code",
   "execution_count": null,
   "metadata": {},
   "outputs": [],
   "source": []
  },
  {
   "cell_type": "code",
   "execution_count": null,
   "metadata": {},
   "outputs": [],
   "source": []
  },
  {
   "cell_type": "code",
   "execution_count": null,
   "metadata": {},
   "outputs": [],
   "source": []
  },
  {
   "cell_type": "code",
   "execution_count": null,
   "metadata": {},
   "outputs": [],
   "source": []
  },
  {
   "cell_type": "code",
   "execution_count": null,
   "metadata": {},
   "outputs": [],
   "source": []
  },
  {
   "cell_type": "code",
   "execution_count": null,
   "metadata": {},
   "outputs": [],
   "source": []
  },
  {
   "cell_type": "code",
   "execution_count": null,
   "metadata": {},
   "outputs": [],
   "source": []
  },
  {
   "cell_type": "code",
   "execution_count": null,
   "metadata": {},
   "outputs": [],
   "source": []
  },
  {
   "cell_type": "code",
   "execution_count": null,
   "metadata": {},
   "outputs": [],
   "source": []
  },
  {
   "cell_type": "code",
   "execution_count": null,
   "metadata": {},
   "outputs": [],
   "source": []
  },
  {
   "cell_type": "code",
   "execution_count": null,
   "metadata": {},
   "outputs": [],
   "source": []
  },
  {
   "cell_type": "code",
   "execution_count": null,
   "metadata": {},
   "outputs": [],
   "source": []
  },
  {
   "cell_type": "code",
   "execution_count": null,
   "metadata": {},
   "outputs": [],
   "source": []
  },
  {
   "cell_type": "code",
   "execution_count": null,
   "metadata": {},
   "outputs": [],
   "source": []
  },
  {
   "cell_type": "code",
   "execution_count": null,
   "metadata": {},
   "outputs": [],
   "source": []
  },
  {
   "cell_type": "code",
   "execution_count": null,
   "metadata": {},
   "outputs": [],
   "source": []
  },
  {
   "cell_type": "code",
   "execution_count": null,
   "metadata": {},
   "outputs": [],
   "source": []
  },
  {
   "cell_type": "code",
   "execution_count": null,
   "metadata": {},
   "outputs": [],
   "source": []
  },
  {
   "cell_type": "code",
   "execution_count": null,
   "metadata": {},
   "outputs": [],
   "source": []
  },
  {
   "cell_type": "code",
   "execution_count": null,
   "metadata": {},
   "outputs": [],
   "source": []
  },
  {
   "cell_type": "code",
   "execution_count": null,
   "metadata": {},
   "outputs": [],
   "source": []
  },
  {
   "cell_type": "code",
   "execution_count": null,
   "metadata": {},
   "outputs": [],
   "source": []
  }
 ],
 "metadata": {
  "kernelspec": {
   "display_name": "Python 3",
   "language": "python",
   "name": "python3"
  },
  "language_info": {
   "codemirror_mode": {
    "name": "ipython",
    "version": 3
   },
   "file_extension": ".py",
   "mimetype": "text/x-python",
   "name": "python",
   "nbconvert_exporter": "python",
   "pygments_lexer": "ipython3",
   "version": "3.6.1"
  }
 },
 "nbformat": 4,
 "nbformat_minor": 2
}
