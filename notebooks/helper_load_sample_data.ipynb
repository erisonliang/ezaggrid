{
 "cells": [
  {
   "cell_type": "code",
   "execution_count": 1,
   "metadata": {},
   "outputs": [],
   "source": [
    "import os\n",
    "import json\n",
    "import requests as rq"
   ]
  },
  {
   "cell_type": "code",
   "execution_count": 7,
   "metadata": {},
   "outputs": [
    {
     "name": "stdout",
     "output_type": "stream",
     "text": [
      "olympicWinners <Response [200]>\n",
      "stocks <Response [200]>\n",
      "weather_se_england <Response [200]>\n",
      "alternativeData <Response [200]>\n"
     ]
    }
   ],
   "source": [
    "dic_url = {\n",
    "'olympicWinners': 'https://raw.githubusercontent.com/ag-grid/ag-grid-docs/master/src/olympicWinners.json',\n",
    "'stocks': 'https://raw.githubusercontent.com/ag-grid/ag-grid-docs/master/src/stocks.json',\n",
    "'weather_se_england': 'https://raw.githubusercontent.com/ag-grid/ag-grid-docs/master/src/weather_se_england.json',\n",
    "'alternativeData': 'https://raw.githubusercontent.com/ag-grid/ag-grid-docs/master/src/alternativeData.json',\n",
    "}\n",
    "\n",
    "for k, v in dic_url.items():\n",
    "    res = rq.get(v)\n",
    "    print(k, res)\n",
    "    r = res.content.decode('utf-8')\n",
    "    path = os.path.join('data', k + '.json')\n",
    "    with open(path, 'w') as f:\n",
    "        f.write(r)"
   ]
  },
  {
   "cell_type": "code",
   "execution_count": 10,
   "metadata": {},
   "outputs": [
    {
     "name": "stdout",
     "output_type": "stream",
     "text": [
      "3083\n",
      "[\n",
      "  {\"athlete\":\"alternative - Michael Phelps\",\"age\":23,\"country\":\"United States\",\"year\":2008,\"date\":\"24/08/2008\",\"sport\":\"Swimming\",\"gold\":8,\"silver\":0,\"bronze\":0,\"total\":8},\n",
      "  {\"athlete\":\"alternative - Michael Phelps\",\"age\":19,\"country\":\"United States\",\"year\":2004,\"date\":\"29/08/2004\",\"sport\":\"Swimming\",\"gold\":6,\"silver\":0,\"bronze\":2,\"total\":8},\n",
      "  {\"athlete\":\"alternative - Michael Phelps\",\"age\":27,\"country\":\"United States\",\"year\":2012,\"date\":\"12/08/2012\",\"sport\":\"Swimming\",\"gold\":4,\"silver\":2,\"bronze\":0,\"total\":6},\n",
      "  {\"athlete\":\"alternative - Natalie Coughlin\",\"age\":25,\"country\":\"United States\",\"year\":2008,\"date\":\"24/08/2008\",\"sport\":\"Swimming\",\"gold\":1,\"silver\":2,\"bronze\":3,\"total\":6},\n",
      "  {\"athlete\":\"alternative - Aleksey Nemov\",\"age\":24,\"country\":\"Russia\",\"year\":2000,\"date\":\"01/10/2000\",\"sport\":\"Gymnastics\",\"gold\":2,\"silver\":1,\"bronze\":3,\"total\":6},\n",
      "  {\"athlete\":\"alternative - Alicia Coutts\",\"age\":24,\"country\":\"Australia\",\"year\":2012,\"date\":\"12/08/2012\",\"sport\":\"Swimming\",\"gold\":1,\"si\n"
     ]
    }
   ],
   "source": [
    "print(len(r))\n",
    "print(r[:1000])"
   ]
  },
  {
   "cell_type": "code",
   "execution_count": null,
   "metadata": {},
   "outputs": [],
   "source": []
  }
 ],
 "metadata": {
  "kernelspec": {
   "display_name": "Python 3",
   "language": "python",
   "name": "python3"
  },
  "language_info": {
   "codemirror_mode": {
    "name": "ipython",
    "version": 3
   },
   "file_extension": ".py",
   "mimetype": "text/x-python",
   "name": "python",
   "nbconvert_exporter": "python",
   "pygments_lexer": "ipython3",
   "version": "3.6.3"
  }
 },
 "nbformat": 4,
 "nbformat_minor": 2
}
